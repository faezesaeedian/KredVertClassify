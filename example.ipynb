{
  "cells": [
    {
      "cell_type": "code",
      "execution_count": 1,
      "metadata": {
        "id": "RLWY-u2xFPjt",
        "colab": {
          "base_uri": "https://localhost:8080/"
        },
        "outputId": "abadeaee-9c64-4ca6-ba90-d8c2fd9d1018"
      },
      "outputs": [
        {
          "output_type": "stream",
          "name": "stdout",
          "text": [
            "Cloning into 'kred_vert_classify'...\n",
            "remote: Enumerating objects: 127, done.\u001b[K\n",
            "remote: Counting objects: 100% (65/65), done.\u001b[K\n",
            "remote: Compressing objects: 100% (65/65), done.\u001b[K\n",
            "remote: Total 127 (delta 34), reused 0 (delta 0), pack-reused 62\u001b[K\n",
            "Receiving objects: 100% (127/127), 33.99 MiB | 12.54 MiB/s, done.\n",
            "Resolving deltas: 100% (39/39), done.\n"
          ]
        }
      ],
      "source": [
        "!git clone https://github.com/faezesaeedian/kred_vert_classify.git"
      ]
    },
    {
      "cell_type": "code",
      "execution_count": 2,
      "metadata": {
        "colab": {
          "base_uri": "https://localhost:8080/"
        },
        "id": "-DrcoPeTGOIR",
        "outputId": "ecab6a22-e550-43a2-e46d-2b044d0a0277"
      },
      "outputs": [
        {
          "output_type": "stream",
          "name": "stdout",
          "text": [
            "/content/kred_vert_classify\n"
          ]
        }
      ],
      "source": [
        "cd kred_vert_classify"
      ]
    },
    {
      "cell_type": "code",
      "execution_count": 3,
      "metadata": {
        "colab": {
          "base_uri": "https://localhost:8080/"
        },
        "id": "sU2QGcCzGSFQ",
        "outputId": "5ad03b73-0e75-4378-8edb-c6c4b5afe7ae"
      },
      "outputs": [
        {
          "output_type": "stream",
          "name": "stdout",
          "text": [
            "base\t       kred_example.ipynb  parse_config.py   trainer\n",
            "config.yaml    logger\t\t   __pycache__\t     train_test.py\n",
            "framework.PNG  main.py\t\t   README.md\t     utils\n",
            "__init__.py    model\t\t   requirements.txt  vgg_features.zip\n"
          ]
        }
      ],
      "source": [
        "!ls"
      ]
    },
    {
      "cell_type": "code",
      "execution_count": null,
      "metadata": {
        "id": "vWvRB9ldGTC2"
      },
      "outputs": [],
      "source": [
        "!conda install pytorch torchvision cudatoolkit=10.0 -c pytorch\n",
        "!pip install -U sentence-transformers"
      ]
    },
    {
      "cell_type": "code",
      "execution_count": 5,
      "metadata": {
        "id": "BpYiJp8aGeqy"
      },
      "outputs": [],
      "source": [
        "import os\n",
        "from utils.util import *\n",
        "from train_test import *\n",
        "\n",
        "# Options: demo, small, large\n",
        "MIND_type = 'small'\n",
        "data_path = \"./data/\"\n",
        "\n",
        "train_news_file = os.path.join(data_path, 'train', r'news.tsv')\n",
        "train_behaviors_file = os.path.join(data_path, 'train', r'behaviors.tsv')\n",
        "valid_news_file = os.path.join(data_path, 'valid', r'news.tsv')\n",
        "valid_behaviors_file = os.path.join(data_path, 'valid', r'behaviors.tsv')\n",
        "knowledge_graph_file = os.path.join(data_path, 'kg/wikidata-graph', r'wikidata-graph.tsv')\n",
        "entity_embedding_file = os.path.join(data_path, 'kg/wikidata-graph', r'entity2vecd100.vec')\n",
        "relation_embedding_file = os.path.join(data_path, 'kg/wikidata-graph', r'relation2vecd100.vec')\n",
        "\n",
        "mind_url, mind_train_dataset, mind_dev_dataset, _ = get_mind_data_set(MIND_type)"
      ]
    },
    {
      "cell_type": "code",
      "execution_count": 6,
      "metadata": {
        "colab": {
          "base_uri": "https://localhost:8080/"
        },
        "id": "rDvb6zPXGifS",
        "outputId": "9e888a58-d987-42c0-89df-d0c1a2f4756d"
      },
      "outputs": [
        {
          "output_type": "stream",
          "name": "stderr",
          "text": [
            "100%|██████████| 51.7k/51.7k [00:07<00:00, 6.71kKB/s]\n",
            "100%|██████████| 30.2k/30.2k [00:05<00:00, 5.17kKB/s]\n",
            "100%|██████████| 3.22M/3.22M [02:48<00:00, 19.1kKB/s]\n"
          ]
        }
      ],
      "source": [
        "kg_url = \"https://kredkg.blob.core.windows.net/wikidatakg/\"\n",
        "\n",
        "if not os.path.exists(train_news_file):\n",
        "    download_deeprec_resources(mind_url, os.path.join(data_path, 'train'), mind_train_dataset)\n",
        "    \n",
        "if not os.path.exists(valid_news_file):\n",
        "    download_deeprec_resources(mind_url, \\\n",
        "                               os.path.join(data_path, 'valid'), mind_dev_dataset)\n",
        "\n",
        "if not os.path.exists(knowledge_graph_file):\n",
        "    download_deeprec_resources(kg_url, \\\n",
        "                               os.path.join(data_path, 'kg'), \"kg.zip\")"
      ]
    },
    {
      "cell_type": "code",
      "source": [
        "!python main.py "
      ],
      "metadata": {
        "id": "K2_kaVaqPXxE"
      },
      "execution_count": null,
      "outputs": []
    },
    {
      "cell_type": "code",
      "execution_count": null,
      "metadata": {
        "id": "FijcxxXyYo0l"
      },
      "outputs": [],
      "source": []
    }
  ],
  "metadata": {
    "accelerator": "GPU",
    "colab": {
      "machine_shape": "hm",
      "provenance": []
    },
    "gpuClass": "standard",
    "kernelspec": {
      "display_name": "Python 3",
      "name": "python3"
    },
    "language_info": {
      "name": "python"
    }
  },
  "nbformat": 4,
  "nbformat_minor": 0
}