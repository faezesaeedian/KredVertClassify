{
  "nbformat": 4,
  "nbformat_minor": 0,
  "metadata": {
    "colab": {
      "provenance": [],
      "machine_shape": "hm"
    },
    "kernelspec": {
      "name": "python3",
      "display_name": "Python 3"
    },
    "language_info": {
      "name": "python"
    },
    "accelerator": "GPU",
    "gpuClass": "standard"
  },
  "cells": [
    {
      "cell_type": "code",
      "source": [
        "from google.colab import drive\n",
        "drive.mount('/content/drive')"
      ],
      "metadata": {
        "id": "DKIuWSZcANSU"
      },
      "execution_count": null,
      "outputs": []
    },
    {
      "cell_type": "code",
      "execution_count": null,
      "metadata": {
        "colab": {
          "base_uri": "https://localhost:8080/"
        },
        "id": "l9bDH6eJ9IpE",
        "outputId": "95734f80-646a-41df-90ef-2dc20b0d565a"
      },
      "outputs": [
        {
          "output_type": "stream",
          "name": "stdout",
          "text": [
            "Downloading data from https://storage.googleapis.com/tensorflow/keras-applications/vgg16/vgg16_weights_tf_dim_ordering_tf_kernels_notop.h5\n",
            "58889256/58889256 [==============================] - 0s 0us/step\n"
          ]
        }
      ],
      "source": [
        "import numpy as np\n",
        "from tensorflow.keras.preprocessing import image\n",
        "from tensorflow.keras.models import Model\n",
        "from tensorflow.keras.layers import Dense, GlobalAveragePooling2D\n",
        "from tensorflow.keras.applications.vgg16 import preprocess_input, VGG16\n",
        "\n",
        "base_model = VGG16(weights='imagenet', include_top=False)\n",
        "\n",
        "x = base_model.output\n",
        "x = GlobalAveragePooling2D()(x)\n",
        "\n",
        "x = Dense(100, activation='relu')(x)\n",
        "\n",
        "model = Model(inputs=base_model.input, outputs=x)\n",
        "\n",
        "def extract_features(img_path):\n",
        "    img = image.load_img(img_path, target_size=(224, 224))\n",
        "    x = image.img_to_array(img)\n",
        "    x = np.expand_dims(x, axis=0)\n",
        "    x = preprocess_input(x)\n",
        "\n",
        "    # Extract features using the modified model\n",
        "    features = model.predict(x)\n",
        "\n",
        "    return features"
      ]
    },
    {
      "cell_type": "code",
      "source": [
        "import glob\n",
        "image_features = {}\n",
        "for i in glob.glob('./drive/MyDrive/v_mind/*.jpg'):\n",
        "  nid = i.split('/')[-1].split('.')[0]\n",
        "  feature = extract_features(i)\n",
        "  flat_feature = feature.flatten()\n",
        "  image_features[nid] = flat_feature"
      ],
      "metadata": {
        "id": "C7m0tLml9L8q"
      },
      "execution_count": null,
      "outputs": []
    },
    {
      "cell_type": "code",
      "source": [
        "file_path = \"./drive/MyDrive/vgg_features.txt\"\n",
        "with open(file_path, 'w') as f:\n",
        "    for key, value in image_features.items():\n",
        "        value_str = \",\".join(str(x) for x in value)\n",
        "        value_list = [float(x) for x in value_str.split(',')]\n",
        "        f.write(f\"{key}\\t{value_list}\\n\")"
      ],
      "metadata": {
        "id": "gy2r7-l59XaE"
      },
      "execution_count": null,
      "outputs": []
    },
    {
      "cell_type": "code",
      "source": [],
      "metadata": {
        "id": "SY1Wg-W3krKW"
      },
      "execution_count": null,
      "outputs": []
    }
  ]
}